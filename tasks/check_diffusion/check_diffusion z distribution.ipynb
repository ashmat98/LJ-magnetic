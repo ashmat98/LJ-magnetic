{
 "cells": [
  {
   "cell_type": "code",
   "execution_count": 24,
   "id": "68aed3de",
   "metadata": {},
   "outputs": [],
   "source": [
    "import adddeps\n",
    "from matplotlib import pyplot as plt\n",
    "import matplotlib\n",
    "import numpy as np\n",
    "from scipy.stats import norm,normaltest, probplot\n",
    "\n",
    "import pandas as pd\n",
    "import sqlalchemy\n",
    "from collections import defaultdict\n",
    "import datetime\n",
    "import importlib\n",
    "from simulator.magnetic import SimulatorMagnetic\n",
    "from simulator.models import Client, Simulation\n",
    "from tqdm import tqdm\n",
    "\n",
    "import multiprocessing\n",
    "from multiprocessing import Pool, cpu_count\n",
    "\n",
    "from relaxation.estimators import relaxation_finder_collision\n",
    "import logging\n",
    "import sys, os\n",
    "from settings import DFS_PATH\n",
    "from utils.utils import plot_mean_std, delete_dfs\n",
    "\n",
    "import scipy.stats as stats\n",
    "\n",
    "matplotlib.rcParams[\"figure.dpi\"] = 150\n",
    "colors = plt.rcParams['axes.prop_cycle'].by_key()['color']\n",
    "client = Client()"
   ]
  },
  {
   "cell_type": "raw",
   "id": "ed6e06ca",
   "metadata": {},
   "source": [
    "import logging\n",
    "\n",
    "logging.config.fileConfig(\"/home/ashmat/telegramLogConfig\")\n",
    "\n",
    "logger = logging.getLogger(\"telegram\")\n",
    "\n",
    "logger.info(\"check_diffusion analyse done!\")"
   ]
  },
  {
   "cell_type": "code",
   "execution_count": 2,
   "id": "f0cf2379",
   "metadata": {},
   "outputs": [],
   "source": [
    "def standartize(arr):\n",
    "    return (arr - np.mean(arr))/np.std(arr)"
   ]
  },
  {
   "cell_type": "code",
   "execution_count": 5,
   "id": "4cd0a3eb",
   "metadata": {},
   "outputs": [
    {
     "name": "stdout",
     "output_type": "stream",
     "text": [
      "100\n"
     ]
    }
   ],
   "source": [
    "with client.Session() as session:\n",
    "    query = (session.query(Simulation.id, Simulation.particles, Simulation.group_name)\n",
    "                 .where(Simulation.group_name.in_([\"ER 6.1\"] ))\n",
    "                 .where(Simulation.particles == 343) \n",
    "                 .order_by(Simulation.start_time)).all()[:]\n",
    "# query = [x[1] for x in query]\n",
    "print(len(query))"
   ]
  },
  {
   "cell_type": "code",
   "execution_count": 6,
   "id": "8511797d",
   "metadata": {},
   "outputs": [
    {
     "data": {
      "text/plain": [
       "(11831, 343, 'ER 6.1')"
      ]
     },
     "execution_count": 6,
     "metadata": {},
     "output_type": "execute_result"
    }
   ],
   "source": [
    "query[0]"
   ]
  },
  {
   "cell_type": "code",
   "execution_count": 5,
   "id": "a56945b2",
   "metadata": {},
   "outputs": [
    {
     "name": "stdout",
     "output_type": "stream",
     "text": [
      "CPU times: user 54.8 ms, sys: 131 ms, total: 186 ms\n",
      "Wall time: 1.91 s\n"
     ]
    }
   ],
   "source": [
    "%%time\n",
    "item = client.query_simulation(id=query[0][0], full_load=False)\n",
    "item.load_history()"
   ]
  },
  {
   "cell_type": "code",
   "execution_count": 6,
   "id": "0b0f5716",
   "metadata": {},
   "outputs": [
    {
     "data": {
      "text/plain": [
       "dict_keys(['BInertia', 'IE', 'KE', 'L', 'LJ_force', 'OMEGA', 'PE', 'collisions', 'rs', 'time', 'vs'])"
      ]
     },
     "execution_count": 6,
     "metadata": {},
     "output_type": "execute_result"
    }
   ],
   "source": [
    "item.history.keys()"
   ]
  },
  {
   "cell_type": "code",
   "execution_count": 44,
   "id": "8e3d0690",
   "metadata": {},
   "outputs": [],
   "source": [
    "delete_list = []\n",
    "def f(sid):\n",
    "    \n",
    "    item = client.query_simulation(id=sid, full_load=False)\n",
    "    item.load_df()\n",
    "    item.load_history()\n",
    "    return item"
   ]
  },
  {
   "cell_type": "code",
   "execution_count": 42,
   "id": "10ac0a05",
   "metadata": {},
   "outputs": [],
   "source": [
    "def smoothen(df, time_window):\n",
    "    if time_window<0:\n",
    "        return df\n",
    "    window = len(df.loc[0:time_window])\n",
    "    df_smooth = df.rolling(window, center=True).mean()\n",
    "    \n",
    "    if \"total_L\" in df and \"Iz\" in df and \"total_KE\" in df and \"N\" in df:\n",
    "        df_smooth[\"omega_MLE\"] = df_smooth[\"total_L\"]/df_smooth[\"Iz\"]\n",
    "        df_smooth[\"beta_MLE\"] = (1/3 * (2 * df[\"total_KE\"] + \n",
    "                                        df.omega_MLE**2 * df[\"Iz\"] \n",
    "                                        - 2 * df[\"total_L\"] * df.omega_MLE)/df[\"N\"] )**-1 \n",
    "    return df_smooth\n",
    "\n",
    "def concat(dfs, key):\n",
    "    return pd.concat([df[key] for df in dfs],axis=1)\n"
   ]
  },
  {
   "cell_type": "code",
   "execution_count": 45,
   "id": "7c9bc71c",
   "metadata": {
    "scrolled": true
   },
   "outputs": [
    {
     "name": "stderr",
     "output_type": "stream",
     "text": [
      "\n",
      "  0%|          | 0/1 [00:00<?, ?it/s]\u001b[A\n",
      "100%|██████████| 1/1 [00:12<00:00, 12.71s/it]\u001b[A"
     ]
    },
    {
     "name": "stdout",
     "output_type": "stream",
     "text": [
      "items to delete:  0\n"
     ]
    },
    {
     "name": "stderr",
     "output_type": "stream",
     "text": [
      "\n"
     ]
    }
   ],
   "source": [
    "items = [f(x) for x, n, _ in tqdm(query[:1])]\n",
    "print(\"items to delete: \",len(delete_list))"
   ]
  },
  {
   "cell_type": "code",
   "execution_count": 46,
   "id": "16c9d1fc",
   "metadata": {},
   "outputs": [],
   "source": [
    "item = items[0]"
   ]
  },
  {
   "cell_type": "code",
   "execution_count": 47,
   "id": "d1245b02",
   "metadata": {},
   "outputs": [
    {
     "data": {
      "text/plain": [
       "[<matplotlib.lines.Line2D at 0x7ff23eb75950>]"
      ]
     },
     "execution_count": 47,
     "metadata": {},
     "output_type": "execute_result"
    },
    {
     "data": {
      "image/png": "[encoded data removed]",
      "text/plain": [
       "<Figure size 960x720 with 1 Axes>"
      ]
     },
     "metadata": {},
     "output_type": "display_data"
    }
   ],
   "source": [
    "((osm, osr), (slope, intercept, _r)) = stats.probplot(\n",
    "            item.history[\"rs\"][-10000:,0].flatten(), dist=\"norm\")\n",
    "sp=1    \n",
    "plt.scatter(osm[::sp], osr[::sp], s=1)\n",
    "plt.plot(osm[::sp], osm[::sp] * slope + intercept, ls=\"--\", c=\"k\", lw=0.51)"
   ]
  },
  {
   "cell_type": "code",
   "execution_count": 48,
   "id": "fe6bf242",
   "metadata": {},
   "outputs": [
    {
     "data": {
      "text/plain": [
       "array([0.36406702, 0.36353559, 0.35863119])"
      ]
     },
     "execution_count": 48,
     "metadata": {},
     "output_type": "execute_result"
    }
   ],
   "source": [
    "(item.history[\"rs\"][-10000:]**2).mean(axis=(0,2)) * np.array([item.a, item.b, item.c])**(-2)"
   ]
  },
  {
   "cell_type": "code",
   "execution_count": 49,
   "id": "01a5ec43",
   "metadata": {},
   "outputs": [
    {
     "data": {
      "text/plain": [
       "array([0.3119838 , 0.3115041 , 0.30583736], dtype=float32)"
      ]
     },
     "execution_count": 49,
     "metadata": {},
     "output_type": "execute_result"
    }
   ],
   "source": [
    "(item.history[\"vs\"][-10000:]**2).mean(axis=(0,2))"
   ]
  },
  {
   "cell_type": "code",
   "execution_count": 52,
   "id": "0b7223c0",
   "metadata": {},
   "outputs": [
    {
     "data": {
      "text/plain": [
       "{'BInertia': array([[0., 0., 0., ..., 0., 0., 0.],\n",
       "        [0., 0., 0., ..., 0., 0., 0.],\n",
       "        [0., 0., 0., ..., 0., 0., 0.],\n",
       "        ...,\n",
       "        [0., 0., 0., ..., 0., 0., 0.],\n",
       "        [0., 0., 0., ..., 0., 0., 0.],\n",
       "        [0., 0., 0., ..., 0., 0., 0.]], dtype=float32),\n",
       " 'IE': array([[-0.00235907, -0.00235907, -0.00242993, ..., -0.00242993,\n",
       "         -0.00235907, -0.00235907],\n",
       "        [-0.00313192, -0.00272993, -0.00177227, ..., -0.00957922,\n",
       "         -0.00722583, -0.00219392],\n",
       "        [-0.00482326, -0.00665683, -0.00202834, ..., -0.04053532,\n",
       "         -0.02242805, -0.00260043],\n",
       "        ...,\n",
       "        [-0.08383726, -0.03297794, -0.02460971, ..., -0.03173838,\n",
       "         -0.03705496,  0.69789004],\n",
       "        [-0.03104713, -0.00116818,  0.01246466, ..., -0.04276819,\n",
       "         -0.05485319, -0.08012351],\n",
       "        [-0.05396714, -0.01855723, -0.0378124 , ...,  0.31620556,\n",
       "         -0.02917635, -0.05661842]], dtype=float32),\n",
       " 'KE': array([[0.8210238 , 0.7321569 , 1.0008665 , ..., 0.62743556, 0.97765607,\n",
       "         0.7332499 ],\n",
       "        [0.80498946, 0.7339597 , 0.9409037 , ..., 0.677975  , 1.0410486 ,\n",
       "         0.6472979 ],\n",
       "        [0.81340355, 0.74634767, 0.8867019 , ..., 0.46115404, 1.1174452 ,\n",
       "         0.59142596],\n",
       "        ...,\n",
       "        [0.35682106, 0.34068483, 0.35323545, ..., 0.20905311, 0.49128664,\n",
       "         0.35910535],\n",
       "        [0.28411546, 0.17342973, 0.19289146, ..., 0.17693762, 0.12074246,\n",
       "         0.5883234 ],\n",
       "        [0.35617414, 0.16670501, 0.07324209, ..., 0.2773517 , 0.11284967,\n",
       "         0.5171568 ]], dtype=float32),\n",
       " 'L': array([[[ 0.33617225,  0.02179315, -0.08781537, ..., -0.01147666,\n",
       "           0.19142355,  0.02472206],\n",
       "         [ 0.23290698,  0.01029459, -0.1521007 , ..., -0.01987817,\n",
       "           0.09042417,  0.01712795],\n",
       "         [ 1.7454863 ,  1.692233  ,  1.923685  , ...,  1.5316662 ,\n",
       "           1.9232537 ,  1.6309772 ]],\n",
       " \n",
       "        [[ 0.24760315,  0.01624863, -0.06820121, ..., -0.00967964,\n",
       "           0.14073023,  0.01859699],\n",
       "         [ 0.15469947,  0.00684119, -0.10475939, ..., -0.01598139,\n",
       "           0.05748993,  0.01185455],\n",
       "         [ 1.7430993 ,  1.6926565 ,  1.9248558 , ...,  1.5232512 ,\n",
       "           1.9333524 ,  1.6227442 ]],\n",
       " \n",
       "        [[ 0.06832936,  0.0028863 , -0.03990505, ...,  0.00375188,\n",
       "           0.03571287,  0.00588536],\n",
       "         [-0.06227919, -0.00454541,  0.01710648, ...,  0.03693272,\n",
       "          -0.04229607, -0.00240446],\n",
       "         [ 1.7460982 ,  1.6804156 ,  1.9256909 , ...,  1.2442428 ,\n",
       "           1.9464576 ,  1.6111184 ]],\n",
       " \n",
       "        ...,\n",
       " \n",
       "        [[-0.26690185,  0.01676063,  0.0781151 , ...,  0.07351292,\n",
       "          -0.12889087, -0.19987611],\n",
       "         [-0.15546264,  0.15767547,  0.08205462, ..., -0.03919635,\n",
       "           0.43058354, -0.17946818],\n",
       "         [-0.10437608, -0.09444793, -0.36803222, ..., -0.17863311,\n",
       "           0.16115858, -0.09690796]],\n",
       " \n",
       "        [[ 0.0916137 , -0.05547705,  0.03563247, ...,  0.02139329,\n",
       "          -0.05035277, -0.25941917],\n",
       "         [ 0.03551431, -0.21446213,  0.03235168, ..., -0.05830349,\n",
       "           0.17899431, -0.23615679],\n",
       "         [-0.03407517, -0.11316828, -0.05282306, ..., -0.07326468,\n",
       "           0.07047608, -0.11151694]],\n",
       " \n",
       "        [[ 0.10653374, -0.12424219,  0.10946228, ...,  0.03087573,\n",
       "           0.1559361 , -0.05153063],\n",
       "         [ 0.04117548, -0.5446882 ,  0.09505211, ...,  0.00530197,\n",
       "          -0.2552165 , -0.11184119],\n",
       "         [-0.01241402, -0.11666275,  0.11874164, ..., -0.04584134,\n",
       "           0.10114164, -0.12025771]]], dtype=float32),\n",
       " 'LJ_force': array([[[ 3.20815928e-02,  1.90558238e-03,  3.41848545e-02, ...,\n",
       "          -3.41848545e-02, -1.90558238e-03, -3.20815928e-02],\n",
       "         [-2.07226928e-02, -3.81448232e-02, -1.97366346e-02, ...,\n",
       "           1.97366346e-02,  3.81448232e-02,  2.07226928e-02],\n",
       "         [ 8.97713471e-04,  8.97713471e-04,  1.60771589e-18, ...,\n",
       "          -1.65340831e-18, -8.97713471e-04, -8.97713471e-04]],\n",
       " \n",
       "        [[ 4.55646850e-02,  4.01706509e-02,  2.50655822e-02, ...,\n",
       "          -2.42619291e-01, -2.69858595e-02, -5.43490499e-02],\n",
       "         [-4.18113954e-02, -3.17227393e-02, -1.44736841e-02, ...,\n",
       "           1.82159233e-03,  1.46470457e-01, -3.32837924e-03],\n",
       "         [-1.92239769e-02,  1.47416620e-04,  1.97737082e-03, ...,\n",
       "           3.77194919e-02,  1.70000605e-02, -5.98291261e-03]],\n",
       " \n",
       "        [[ 7.31444657e-02,  1.87594205e-01,  4.01290506e-02, ...,\n",
       "          -7.43560255e-01, -4.58259493e-01, -6.91912472e-02],\n",
       "         [-8.83933604e-02, -3.68682891e-02, -5.96830854e-03, ...,\n",
       "          -8.60046148e-02,  3.36932689e-01,  2.20935196e-02],\n",
       "         [-4.40914109e-02, -1.58364736e-02,  6.68571144e-03, ...,\n",
       "          -1.77339837e-01,  7.33436495e-02, -1.15595581e-02]],\n",
       " \n",
       "        ...,\n",
       " \n",
       "        [[ 2.89531422e+00,  3.26432049e-01, -8.73105717e+00, ...,\n",
       "           3.06682408e-01,  7.41477981e-02,  2.97913647e+01],\n",
       "         [ 2.10229468e+00,  5.06979585e-01,  1.07900834e+00, ...,\n",
       "          -1.29353726e+00,  2.08486378e-01, -1.50880766e+01],\n",
       "         [-2.46820045e+00, -7.40804896e-02, -5.34303713e+00, ...,\n",
       "           7.87575436e+00, -1.42248511e-01,  1.08572245e+00]],\n",
       " \n",
       "        [[ 2.37542868e-01,  4.62555746e-03, -8.73991400e-02, ...,\n",
       "           1.04561135e-01, -2.12169975e-01,  1.27394116e+00],\n",
       "         [-3.70208472e-02,  3.02293245e-03,  1.00031986e+01, ...,\n",
       "          -1.89765051e-01,  5.09326100e-01,  1.83059084e+00],\n",
       "         [ 5.95900714e-02, -6.93759136e-03, -7.50400782e+00, ...,\n",
       "          -1.04323916e-01,  8.18848848e-01,  4.90107208e-01]],\n",
       " \n",
       "        [[-1.48507798e+00,  2.43185833e-01, -1.74110913e+00, ...,\n",
       "          -8.23263526e-01, -3.72880280e-01, -1.18768886e-01],\n",
       "         [ 2.76539475e-01, -9.71599519e-02, -1.26632261e+00, ...,\n",
       "           6.59837952e+01, -1.70993507e-01,  3.93775463e-01],\n",
       "         [-2.05038118e+00, -4.58249390e-01,  1.57249823e-01, ...,\n",
       "           7.52174425e+00,  3.41673583e-01, -9.46334541e-01]]],\n",
       "       dtype=float32),\n",
       " 'OMEGA': array([[[ 1.71753064e-01,  1.11342901e-02, -4.61118333e-02, ...,\n",
       "          -6.02639373e-03,  9.77998003e-02,  1.26306964e-02],\n",
       "         [ 1.18994012e-01,  5.25958836e-03, -7.98680335e-02, ...,\n",
       "          -1.04380203e-02,  4.61984240e-02,  8.75080377e-03],\n",
       "         [ 8.91782641e-01,  8.64575148e-01,  1.01012647e+00, ...,\n",
       "           8.04277539e-01,  9.82605457e-01,  8.33279073e-01]],\n",
       " \n",
       "        [[ 1.27402037e-01,  8.31412710e-03, -3.37888971e-02, ...,\n",
       "          -5.39118377e-03,  7.63453469e-02,  8.78861919e-03],\n",
       "         [ 7.95992687e-02,  3.50050931e-03, -5.19008972e-02, ...,\n",
       "          -8.90101865e-03,  3.11879572e-02,  5.60225546e-03],\n",
       "         [ 8.96896541e-01,  8.66101205e-01,  9.53630447e-01, ...,\n",
       "           8.48392010e-01,  1.04883254e+00,  7.66880989e-01]],\n",
       " \n",
       "        [[ 3.60355377e-02,  1.51115516e-03, -1.88144203e-02, ...,\n",
       "           2.21224478e-03,  2.06078142e-02,  2.66456581e-03],\n",
       "         [-3.28447968e-02, -2.37979461e-03,  8.06535780e-03, ...,\n",
       "           2.17768680e-02, -2.44065970e-02, -1.08860759e-03],\n",
       "         [ 9.20857131e-01,  8.79799187e-01,  9.07924175e-01, ...,\n",
       "           7.33650565e-01,  1.12318730e+00,  7.29425013e-01]],\n",
       " \n",
       "        ...,\n",
       " \n",
       "        [[-1.32584345e+00,  1.84157193e-02,  2.46262729e-01, ...,\n",
       "           6.01585031e-01, -4.32105362e-01, -1.73955643e+00],\n",
       "         [-7.72265613e-01,  1.73245713e-01,  2.58682311e-01, ...,\n",
       "          -3.20759088e-01,  1.44352710e+00, -1.56194270e+00],\n",
       "         [-5.18491507e-01, -1.03774525e-01, -1.16024458e+00, ...,\n",
       "          -1.46182466e+00,  5.40282547e-01, -8.43406737e-01]],\n",
       " \n",
       "        [[ 5.63755453e-01, -4.68866229e-02,  7.74482638e-02, ...,\n",
       "           2.81585544e-01, -1.23829044e-01, -1.31966460e+00],\n",
       "         [ 2.18541414e-01, -1.81253433e-01,  7.03173503e-02, ...,\n",
       "          -7.67409980e-01,  4.40188199e-01, -1.20132887e+00],\n",
       "         [-2.09685490e-01, -9.56445783e-02, -1.14812516e-01, ...,\n",
       "          -9.64334130e-01,  1.73316896e-01, -5.67286372e-01]],\n",
       " \n",
       "        [[ 1.60526466e+00, -9.03102010e-02,  1.93979397e-01, ...,\n",
       "           1.07739949e+00,  3.48022282e-01, -2.00335503e-01],\n",
       "         [ 6.20437741e-01, -3.95927548e-01,  1.68442950e-01, ...,\n",
       "           1.85010597e-01, -5.69598913e-01, -4.34804708e-01],\n",
       "         [-1.87056139e-01, -8.48007947e-02,  2.10423455e-01, ...,\n",
       "          -1.59961998e+00,  2.25730568e-01, -4.67525631e-01]]],\n",
       "       dtype=float32),\n",
       " 'PE': array([[0.9858727 , 0.9915417 , 0.94268   , ..., 0.94268   , 0.9915417 ,\n",
       "         0.9858727 ],\n",
       "        [0.9726648 , 0.9575002 , 0.9927393 , ..., 0.87965995, 0.9085514 ,\n",
       "         1.0367529 ],\n",
       "        [0.9680238 , 0.9358447 , 1.0466083 , ..., 0.8309398 , 0.85923165,\n",
       "         1.0823028 ],\n",
       "        ...,\n",
       "        [0.10657845, 0.5358953 , 0.15915015, ..., 0.19220948, 0.17692496,\n",
       "         0.19442776],\n",
       "        [0.09097107, 0.69023526, 0.23059414, ..., 0.1505395 , 0.50063735,\n",
       "         0.09989651],\n",
       "        [0.04301721, 0.7007222 , 0.30503845, ..., 0.05159587, 0.5001292 ,\n",
       "         0.18794869]], dtype=float32),\n",
       " 'collisions': array([[0.0000000e+00, 0.0000000e+00, 0.0000000e+00],\n",
       "        [2.0000000e+00, 2.0000000e+00, 0.0000000e+00],\n",
       "        [3.9600000e+02, 4.4400000e+02, 4.3200000e+02],\n",
       "        ...,\n",
       "        [1.8240470e+07, 2.1569630e+07, 2.3859118e+07],\n",
       "        [1.8240802e+07, 2.1570034e+07, 2.3859572e+07],\n",
       "        [1.8241150e+07, 2.1570426e+07, 2.3860014e+07]], dtype=float32),\n",
       " 'rs': array([[[-0.7967434 , -0.59755754, -1.1951151 , ...,  1.1951151 ,\n",
       "           0.59755754,  0.7967434 ],\n",
       "         [ 1.15      ,  1.265     ,  0.69      , ..., -0.69      ,\n",
       "          -1.265     , -1.15      ],\n",
       "         [ 0.        ,  0.        ,  0.        , ...,  0.        ,\n",
       "           0.        ,  0.        ]],\n",
       " \n",
       "        [[-0.9842859 , -0.8055944 , -1.3451074 , ...,  1.2547044 ,\n",
       "           0.8152841 ,  1.0078797 ],\n",
       "         [ 0.98586136,  1.1425184 ,  0.45674577, ..., -0.47028136,\n",
       "          -1.0853186 , -1.0489017 ],\n",
       "         [ 0.05232062,  0.00311559, -0.02280147, ...,  0.00303911,\n",
       "          -0.02707227, -0.00388803]],\n",
       " \n",
       "        [[-1.1315074 , -0.98034227, -1.441497  , ...,  1.2784916 ,\n",
       "           0.99869466,  1.1774786 ],\n",
       "         [ 0.78144187,  0.97411984,  0.20509501, ..., -0.2478063 ,\n",
       "          -0.856867  , -0.90678746],\n",
       "         [ 0.07215101,  0.00431877, -0.03169328, ...,  0.00350045,\n",
       "          -0.03694319, -0.0056546 ]],\n",
       " \n",
       "        ...,\n",
       " \n",
       "        [[-0.21801412, -0.93333894,  0.43429375, ...,  0.32337937,\n",
       "           0.51271206,  0.24138875],\n",
       "         [ 0.39132282,  0.1645934 , -0.358386  , ...,  0.00151185,\n",
       "           0.17719164, -0.19581278],\n",
       "         [-0.02536702,  0.10915004,  0.01227521, ...,  0.13274865,\n",
       "          -0.06336556, -0.13523844]],\n",
       " \n",
       "        [[-0.15605061, -1.0603281 ,  0.4544432 , ...,  0.23745841,\n",
       "           0.55778027,  0.29515013],\n",
       "         [ 0.37015417,  0.21051724, -0.50354636, ..., -0.06716506,\n",
       "           0.23564138, -0.33058235],\n",
       "         [-0.03376659,  0.12084567, -0.00184836, ...,  0.12278731,\n",
       "          -0.19996405,  0.01346582]],\n",
       " \n",
       "        [[-0.08841433, -1.1447749 ,  0.52435035, ...,  0.12105109,\n",
       "           0.5781496 ,  0.40975544],\n",
       "         [ 0.2393848 ,  0.24864152, -0.5350949 , ..., -0.0950158 ,\n",
       "           0.276855  , -0.28512457],\n",
       "         [ 0.03525665,  0.05826396, -0.05503279, ...,  0.07054266,\n",
       "          -0.19276372,  0.08958855]]], dtype=float32),\n",
       " 'time': array([0.0000e+00, 2.0000e-01, 4.0000e-01, ..., 9.9996e+03, 9.9998e+03,\n",
       "        1.0000e+04], dtype=float32),\n",
       " 'vs': array([[[-1.0257576e+00, -1.1068823e+00, -8.7525088e-01, ...,\n",
       "           4.2444336e-01,  1.1548247e+00,  1.1445388e+00],\n",
       "         [-7.1022242e-01, -4.8870075e-01, -1.1042968e+00, ...,\n",
       "           1.0365531e+00,  7.7381730e-01,  3.9505512e-01],\n",
       "         [ 2.9232371e-01,  1.7227784e-02, -1.2726866e-01, ...,\n",
       "           1.6632847e-02, -1.5132296e-01, -2.1497447e-02]],\n",
       " \n",
       "        [[-8.4309328e-01, -9.6542984e-01, -6.2006944e-01, ...,\n",
       "           1.6310331e-01,  1.0147064e+00,  9.5915717e-01],\n",
       "         [-9.2648518e-01, -7.3192567e-01, -1.2204540e+00, ...,\n",
       "           1.1528984e+00,  1.0205922e+00,  6.1186135e-01],\n",
       "         [ 2.0198466e-01,  1.2225845e-02, -8.8392861e-02, ...,\n",
       "           1.3132244e-02, -1.0420948e-01, -1.5461945e-02]],\n",
       " \n",
       "        [[-6.2338722e-01, -7.7235717e-01, -3.4023124e-01, ...,\n",
       "           2.7321696e-01,  7.9905427e-01,  7.3070621e-01],\n",
       "         [-1.1126373e+00, -9.4665629e-01, -1.2874887e+00, ...,\n",
       "           9.2025471e-01,  1.2634236e+00,  8.0555457e-01],\n",
       "         [-1.5290379e-02, -1.2340270e-03,  4.3867137e-03, ...,\n",
       "          -2.8139673e-02,  1.2793154e-02, -1.4670213e-03]],\n",
       " \n",
       "        ...,\n",
       " \n",
       "        [[ 1.3154168e-02, -7.4908668e-01, -3.5662968e-02, ...,\n",
       "          -3.3316785e-01,  2.5136065e-01,  1.1159651e-01],\n",
       "         [ 4.5514736e-01,  2.3329429e-01, -8.1799728e-01, ...,\n",
       "          -5.5395252e-01,  4.0119514e-01, -4.9198639e-01],\n",
       "         [-7.1155465e-01,  2.5653952e-01, -1.8994606e-01, ...,\n",
       "          -1.5558282e-02, -8.7088090e-01,  6.8095982e-01]],\n",
       " \n",
       "        [[ 3.4442088e-01, -5.3081888e-01,  3.5216135e-01, ...,\n",
       "          -5.7435828e-01,  2.0334662e-01,  2.6100487e-01],\n",
       "         [-5.9861135e-01,  2.1211812e-01, -5.0644976e-01, ...,\n",
       "          -1.4607976e-01,  2.1225734e-01, -6.7016923e-01],\n",
       "         [ 3.0210862e-01, -1.4176269e-01, -7.2622053e-02, ...,\n",
       "          -5.1463429e-02, -3.9380437e-01,  8.1203228e-01]],\n",
       " \n",
       "        [[ 3.1258076e-01, -3.0539438e-01,  3.0593720e-01, ...,\n",
       "          -6.1708856e-01, -1.7713669e-03,  6.0231441e-01],\n",
       "         [-7.0591569e-01,  1.6823959e-01, -8.5751452e-02, ...,\n",
       "           1.0567289e-01,  1.7409199e-01, -7.1260154e-01],\n",
       "         [ 3.4106392e-01, -4.6026054e-01, -2.1338536e-01, ...,\n",
       "          -4.0340850e-01,  4.4202736e-01,  4.0463567e-01]]], dtype=float32)}"
      ]
     },
     "execution_count": 52,
     "metadata": {},
     "output_type": "execute_result"
    }
   ],
   "source": [
    "item.history"
   ]
  },
  {
   "cell_type": "code",
   "execution_count": 54,
   "id": "56c44098",
   "metadata": {},
   "outputs": [
    {
     "data": {
      "text/plain": [
       "time\n",
       "0.000000        0.930788\n",
       "0.200000        0.937832\n",
       "0.400000        0.944967\n",
       "0.600000        0.934879\n",
       "0.800000        0.915244\n",
       "                  ...   \n",
       "9999.200195     0.120853\n",
       "9999.400391     0.116074\n",
       "9999.599609     0.113153\n",
       "9999.799805     0.112189\n",
       "10000.000000    0.113113\n",
       "Name: omega_MLE, Length: 50001, dtype: float32"
      ]
     },
     "execution_count": 54,
     "metadata": {},
     "output_type": "execute_result"
    }
   ],
   "source": [
    "item.df.omega_MLE"
   ]
  },
  {
   "cell_type": "code",
   "execution_count": 55,
   "id": "e1cc5d9c",
   "metadata": {},
   "outputs": [
    {
     "data": {
      "text/plain": [
       "1.0102577523383118"
      ]
     },
     "execution_count": 55,
     "metadata": {},
     "output_type": "execute_result"
    }
   ],
   "source": [
    "item.a"
   ]
  },
  {
   "cell_type": "code",
   "execution_count": 56,
   "id": "2c07de51",
   "metadata": {},
   "outputs": [
    {
     "data": {
      "text/plain": [
       "0.989846400767953"
      ]
     },
     "execution_count": 56,
     "metadata": {},
     "output_type": "execute_result"
    }
   ],
   "source": [
    "item.b"
   ]
  },
  {
   "cell_type": "code",
   "execution_count": null,
   "id": "c989ec26",
   "metadata": {},
   "outputs": [],
   "source": []
  }
 ],
 "metadata": {
  "kernelspec": {
   "display_name": "Python 3 (ipykernel)",
   "language": "python",
   "name": "python3"
  },
  "language_info": {
   "codemirror_mode": {
    "name": "ipython",
    "version": 3
   },
   "file_extension": ".py",
   "mimetype": "text/x-python",
   "name": "python",
   "nbconvert_exporter": "python",
   "pygments_lexer": "ipython3",
   "version": "3.7.15"
  },
  "vscode": {
   "interpreter": {
    "hash": "bfcb705c16c26d43c40d8c9d7b9e9a8099c5fe41b94adad8ffe04962d75b54e6"
   }
  }
 },
 "nbformat": 4,
 "nbformat_minor": 5
}
