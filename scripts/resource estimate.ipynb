{
 "cells": [
  {
   "cell_type": "code",
   "execution_count": 1,
   "metadata": {},
   "outputs": [
    {
     "name": "stderr",
     "output_type": "stream",
     "text": [
      "/home/ashmat/cluster/LJ-magnetic/simulator/base.py:10: TqdmWarning: IProgress not found. Please update jupyter and ipywidgets. See https://ipywidgets.readthedocs.io/en/stable/user_install.html\n",
      "  from tqdm.autonotebook import tqdm\n"
     ]
    }
   ],
   "source": [
    "import os\n",
    "import adddeps\n",
    "from simulator.models import Client_HDF5, Client, Simulation\n",
    "from matplotlib import pyplot as plt\n",
    "import numpy as np\n",
    "from collections import defaultdict\n",
    "from settings import HDF5_PATH\n",
    "from sqlalchemy.orm import aliased"
   ]
  },
  {
   "cell_type": "code",
   "execution_count": 2,
   "metadata": {},
   "outputs": [],
   "source": [
    "client = Client()"
   ]
  },
  {
   "cell_type": "code",
   "execution_count": 23,
   "metadata": {},
   "outputs": [],
   "source": [
    "with client.Session() as sess:\n",
    "    data = dict()\n",
    "\n",
    "    subquery = (sess.query(Simulation)\n",
    "                                # .where(Simulation.group_name.in_([\"Ensemble 9\"]))\n",
    "                                #  .where(Simulation.group_name.in_([\"Ensemble 6\",\"Ensemble 7\",\"Ensemble 9\"]))\n",
    "                                 .order_by(Simulation.id.asc()).subquery().c)\n",
    "    \n",
    "    sess.query(subquery.start_time, subquery.finish_time).all()\n",
    "    data[\"time\"] = np.array([(f-s).total_seconds() for s,f in \n",
    "            sess.query(subquery.start_time, subquery.finish_time).all()\n",
    "        ])\n",
    "    data[\"N\"] = np.array(sess.query(subquery.particles).all())[:,0]\n",
    "    data[\"records\"] = np.array(sess.query(subquery.iterations).all())[:,0]\n",
    "\n",
    "    data[\"hash\"] = np.array(sess.query(subquery.hash).all())[:,0]\n",
    "\n",
    "    data[\"iterations\"] = (data[\"records\"] \n",
    "        / np.array(sess.query(subquery.dt).all())[:,0]\n",
    "        *np.array(sess.query(subquery.record_interval).all())[:,0])\n",
    "\n"
   ]
  },
  {
   "cell_type": "code",
   "execution_count": 24,
   "metadata": {},
   "outputs": [
    {
     "data": {
      "text/plain": [
       "7193"
      ]
     },
     "execution_count": 24,
     "metadata": {},
     "output_type": "execute_result"
    }
   ],
   "source": [
    "len(data[\"time\"])"
   ]
  },
  {
   "cell_type": "code",
   "execution_count": 25,
   "metadata": {},
   "outputs": [
    {
     "data": {
      "text/plain": [
       "{300010.0, 300100.0, 1000100.0, 10001000.0, 20001000.0}"
      ]
     },
     "execution_count": 25,
     "metadata": {},
     "output_type": "execute_result"
    }
   ],
   "source": [
    "set(data[\"iterations\"])"
   ]
  },
  {
   "cell_type": "code",
   "execution_count": 26,
   "metadata": {},
   "outputs": [
    {
     "data": {
      "text/plain": [
       "{0.0001, 0.001}"
      ]
     },
     "execution_count": 26,
     "metadata": {},
     "output_type": "execute_result"
    }
   ],
   "source": [
    "set(np.array(sess.query(Simulation.dt).order_by(Simulation.id.asc()).all())[:,0])"
   ]
  },
  {
   "cell_type": "code",
   "execution_count": 27,
   "metadata": {},
   "outputs": [
    {
     "data": {
      "text/plain": [
       "array([0.1 , 0.1 , 0.1 , ..., 0.01, 0.01, 0.01])"
      ]
     },
     "execution_count": 27,
     "metadata": {},
     "output_type": "execute_result"
    }
   ],
   "source": [
    "np.array(sess.query(Simulation.record_interval).order_by(Simulation.id.asc()).all())[:,0]"
   ]
  },
  {
   "cell_type": "code",
   "execution_count": 28,
   "metadata": {},
   "outputs": [],
   "source": [
    "data[\"size\"] = np.array(\n",
    "    [os.stat(os.path.join(HDF5_PATH, _hash+\".hdf5\")).st_size for _hash in data[\"hash\"]])"
   ]
  },
  {
   "cell_type": "code",
   "execution_count": 29,
   "metadata": {},
   "outputs": [
    {
     "data": {
      "image/png": "[encoded data removed]",
      "text/plain": [
       "<Figure size 640x480 with 1 Axes>"
      ]
     },
     "metadata": {},
     "output_type": "display_data"
    }
   ],
   "source": [
    "def f(n):\n",
    "    return np.maximum(2e-3,  1.0e-7 * n**2.8 * 0.03)\n",
    "\n",
    "plt.scatter(data[\"N\"], data[\"time\"]/data[\"iterations\"],marker=\"+\")\n",
    "x=np.linspace(min(data[\"N\"]), max(1.5*data[\"N\"]),500)\n",
    "plt.plot(x, f(x))\n",
    "plt.gca().set_xscale(\"log\")\n",
    "plt.gca().set_yscale(\"log\")\n",
    "plt.grid(which=\"both\")\n",
    "plt.minorticks_on()"
   ]
  },
  {
   "cell_type": "code",
   "execution_count": 10,
   "metadata": {},
   "outputs": [
    {
     "data": {
      "text/plain": [
       "array([ 169,   31,  379,  769,  895,  169,  769,  895,  277,  169,  769,\n",
       "        277,  523,  277,  169,   31,  631,  277,  523,  631,  277,  895,\n",
       "        631,  379,   31,  631,  523,  277,  769,   31,  379,  631,  379,\n",
       "        895,  895,  769,  631,  379,  631, 1009,  379,  631,  379, 1009,\n",
       "         31,  169,  895,  895, 1009,  379,  769,   31,  379,  277,  895,\n",
       "        769,  523,  769,  169,  631,  277,   31,  379, 1009,  169,  523,\n",
       "        523,  169,   31,  523,  277,   31, 1009,  769,  631,  523,  895,\n",
       "        169,  277,  379,  769,  523,  631,  769, 1009,  631,  523,  769,\n",
       "        523,   31,  379,  769,  895,  379,  277,  277,  523,   31,  379,\n",
       "        169,  895,  169,  895,  631,  631,  895,  169,  631,   31,  277,\n",
       "         31,  523,  769,  379,   31,  277,   31,  769,  169,  769,  169,\n",
       "        379,  895, 1009,  895,  631,  379,  769,  277,  769,  379,  631,\n",
       "        631,  523,  379,  895,  523,  169,  631,  631,  769,  523,  277,\n",
       "        523,  277,  523,  895,  277,  769,  169,   31,  895,  277,   31,\n",
       "         31,  379,  895,  169,   31,  523,   31,  169,  169,  895,  169,\n",
       "        523,  277])"
      ]
     },
     "execution_count": 10,
     "metadata": {},
     "output_type": "execute_result"
    }
   ],
   "source": [
    "data[\"N\"]"
   ]
  },
  {
   "cell_type": "code",
   "execution_count": 73,
   "metadata": {},
   "outputs": [
    {
     "data": {
      "image/png": "[encoded data removed]",
      "text/plain": [
       "<Figure size 640x480 with 1 Axes>"
      ]
     },
     "metadata": {},
     "output_type": "display_data"
    }
   ],
   "source": [
    "def f(n):\n",
    "    return (85 * n)*1.0\n",
    "\n",
    "plt.scatter(data[\"N\"], data[\"size\"]/data[\"records\"],marker=\"+\")\n",
    "x=np.linspace(min(data[\"N\"]), max(data[\"N\"]),500)\n",
    "plt.plot(x, f(x))\n",
    "plt.gca().set_xscale(\"log\")\n",
    "plt.gca().set_yscale(\"log\")"
   ]
  },
  {
   "cell_type": "code",
   "execution_count": 17,
   "metadata": {},
   "outputs": [
    {
     "data": {
      "text/plain": [
       "50421.32185"
      ]
     },
     "execution_count": 17,
     "metadata": {},
     "output_type": "execute_result"
    }
   ],
   "source": [
    "x.total_seconds()"
   ]
  },
  {
   "cell_type": "code",
   "execution_count": 15,
   "metadata": {},
   "outputs": [
    {
     "data": {
      "text/plain": [
       "5882"
      ]
     },
     "execution_count": 15,
     "metadata": {},
     "output_type": "execute_result"
    }
   ],
   "source": [
    "len(data)"
   ]
  },
  {
   "cell_type": "code",
   "execution_count": null,
   "metadata": {},
   "outputs": [],
   "source": []
  },
  {
   "cell_type": "code",
   "execution_count": 17,
   "metadata": {},
   "outputs": [
    {
     "ename": "TypeError",
     "evalue": "unsupported operand type(s) for -: 'Row' and 'Row'",
     "output_type": "error",
     "traceback": [
      "\u001b[0;31m---------------------------------------------------------------------------\u001b[0m",
      "\u001b[0;31mTypeError\u001b[0m                                 Traceback (most recent call last)",
      "\u001b[0;32m/tmp/ipykernel_27694/1851156938.py\u001b[0m in \u001b[0;36m<module>\u001b[0;34m\u001b[0m\n\u001b[0;32m----> 1\u001b[0;31m \u001b[0mdata\u001b[0m\u001b[0;34m[\u001b[0m\u001b[0;36m1\u001b[0m\u001b[0;34m]\u001b[0m\u001b[0;34m-\u001b[0m\u001b[0mdata\u001b[0m\u001b[0;34m[\u001b[0m\u001b[0;36m0\u001b[0m\u001b[0;34m]\u001b[0m\u001b[0;34m\u001b[0m\u001b[0;34m\u001b[0m\u001b[0m\n\u001b[0m",
      "\u001b[0;31mTypeError\u001b[0m: unsupported operand type(s) for -: 'Row' and 'Row'"
     ]
    }
   ],
   "source": [
    "data[1]-data[0]"
   ]
  },
  {
   "cell_type": "code",
   "execution_count": 13,
   "metadata": {},
   "outputs": [
    {
     "ename": "TypeError",
     "evalue": "unsupported operand type(s) for -: 'str' and 'str'",
     "output_type": "error",
     "traceback": [
      "\u001b[0;31m---------------------------------------------------------------------------\u001b[0m",
      "\u001b[0;31mTypeError\u001b[0m                                 Traceback (most recent call last)",
      "\u001b[0;32m/tmp/ipykernel_27694/1851156938.py\u001b[0m in \u001b[0;36m<module>\u001b[0;34m\u001b[0m\n\u001b[0;32m----> 1\u001b[0;31m \u001b[0mdata\u001b[0m\u001b[0;34m[\u001b[0m\u001b[0;36m1\u001b[0m\u001b[0;34m]\u001b[0m\u001b[0;34m-\u001b[0m\u001b[0mdata\u001b[0m\u001b[0;34m[\u001b[0m\u001b[0;36m0\u001b[0m\u001b[0;34m]\u001b[0m\u001b[0;34m\u001b[0m\u001b[0;34m\u001b[0m\u001b[0m\n\u001b[0m",
      "\u001b[0;31mTypeError\u001b[0m: unsupported operand type(s) for -: 'str' and 'str'"
     ]
    }
   ],
   "source": [
    "data[1]-data[0]"
   ]
  },
  {
   "cell_type": "code",
   "execution_count": null,
   "metadata": {},
   "outputs": [],
   "source": []
  }
 ],
 "metadata": {
  "kernelspec": {
   "display_name": ".venv",
   "language": "python",
   "name": "python3"
  },
  "language_info": {
   "codemirror_mode": {
    "name": "ipython",
    "version": 3
   },
   "file_extension": ".py",
   "mimetype": "text/x-python",
   "name": "python",
   "nbconvert_exporter": "python",
   "pygments_lexer": "ipython3",
   "version": "3.7.15"
  },
  "vscode": {
   "interpreter": {
    "hash": "bfcb705c16c26d43c40d8c9d7b9e9a8099c5fe41b94adad8ffe04962d75b54e6"
   }
  }
 },
 "nbformat": 4,
 "nbformat_minor": 2
}
