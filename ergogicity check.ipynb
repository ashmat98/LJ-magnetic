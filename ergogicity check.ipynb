{
 "cells": [
  {
   "cell_type": "code",
   "execution_count": 1,
   "id": "daa726c1",
   "metadata": {},
   "outputs": [],
   "source": [
    "from matplotlib import pyplot as plt\n",
    "import numpy as np\n",
    "import pandas as pd\n",
    "import importlib\n",
    "from simulator.ideal import SimulatorIdeal\n",
    "from simulator.lennard import SimulatorLennard\n",
    "from simulator.magnetic import SimulatorMagnetic\n",
    "\n",
    "import multiprocessing\n",
    "from multiprocessing import Pool, cpu_count\n",
    "from relaxation.estimators import RelaxationFinder\n",
    "\n",
    "from utils.logs import get_logger\n",
    "\n",
    "import sys, os, time"
   ]
  },
  {
   "cell_type": "code",
   "execution_count": null,
   "id": "a869bb45",
   "metadata": {},
   "outputs": [],
   "source": [
    "if \"pool\" in dir():\n",
    "    pool.close();print(\"closed\")\n",
    "pool = Pool(cpu_count(), maxtasksperchild=1); pool"
   ]
  },
  {
   "cell_type": "code",
   "execution_count": 2,
   "id": "71b03f3f",
   "metadata": {},
   "outputs": [],
   "source": [
    "params_model = {\n",
    "    \"group_name\" : \"Ensemble 3\",\n",
    "    \"R\" : 1.0,\n",
    "    \"Rz\" : 0.25,\n",
    "    \"eccentricity\": 0.0,\n",
    "    \"sigma\":0.20,\n",
    "    \"epsilon\":1.0,\n",
    "    \"get_logger\" : get_logger\n",
    "}\n",
    "params_init = {\n",
    "    \"energy\": 1.0,\n",
    "    \"sigma_grid\":0.35,\n",
    "    \"position_random_shift_percentage\": 50.0/100,\n",
    "#     \"angular_momentum_factor\" : 0.99,\n",
    "    \"angular_momentum\" : 65,\n",
    "    \"planar\": False,\n",
    "    \"zero_momentum\": False,\n",
    "}\n",
    "params_simulation = {\n",
    "    \"iteration_time\" : 200,\n",
    "    \"dt\" : 1e-3,\n",
    "    \"record_interval\" : 1e-1,\n",
    "    \"algorithm\" : \"VERLET\",\n",
    "#     \"before_step\" : before_step\n",
    "}"
   ]
  },
  {
   "cell_type": "code",
   "execution_count": 3,
   "id": "02ef0560",
   "metadata": {},
   "outputs": [
    {
     "data": {
      "text/plain": [
       "(65.0, 103.00000000000003, 103)"
      ]
     },
     "execution_count": 3,
     "metadata": {},
     "output_type": "execute_result"
    }
   ],
   "source": [
    "sim = SimulatorMagnetic(Bz=0,**params_model)\n",
    "sim.init_positions_closepack(**params_init)\n",
    "sim.init_velocities(**params_init);\n",
    "(sim.angular_momentum(sim.r_init, sim.v_init)[2].sum(),\n",
    " sim.total_energy(sim.r_init, sim.v_init),\n",
    " sim.particle_number())"
   ]
  },
  {
   "cell_type": "code",
   "execution_count": null,
   "id": "03daadf0",
   "metadata": {},
   "outputs": [],
   "source": []
  }
 ],
 "metadata": {
  "kernelspec": {
   "display_name": "Python 3 (ipykernel)",
   "language": "python",
   "name": "python3"
  },
  "language_info": {
   "codemirror_mode": {
    "name": "ipython",
    "version": 3
   },
   "file_extension": ".py",
   "mimetype": "text/x-python",
   "name": "python",
   "nbconvert_exporter": "python",
   "pygments_lexer": "ipython3",
   "version": "3.8.13"
  }
 },
 "nbformat": 4,
 "nbformat_minor": 5
}
