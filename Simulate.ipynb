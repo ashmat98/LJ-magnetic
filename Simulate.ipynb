{
 "cells": [
  {
   "cell_type": "code",
   "execution_count": 1,
   "metadata": {},
   "outputs": [],
   "source": [
    "from matplotlib import pyplot as plt\n",
    "import numpy as np\n",
    "import importlib\n",
    "from simulator.ideal import SimulatorIdeal\n",
    "from simulator.lennard import SimulatorLennard\n",
    "from simulator.magnetic import SimulatorMagnetic\n",
    "\n",
    "from multiprocessing import Pool, cpu_count\n",
    "\n",
    "import logging.config\n",
    "import logging\n",
    "import sys\n",
    "logging.config.fileConfig(\"/home/amatevosyan/telegramLogConfig\")\n",
    "logger = logging.getLogger(\"telegram\")"
   ]
  },
  {
   "cell_type": "code",
   "execution_count": 7,
   "metadata": {},
   "outputs": [
    {
     "data": {
      "text/plain": [
       "<multiprocessing.pool.Pool state=RUN pool_size=12>"
      ]
     },
     "execution_count": 7,
     "metadata": {},
     "output_type": "execute_result"
    }
   ],
   "source": [
    "pool = Pool(cpu_count()); pool"
   ]
  },
  {
   "cell_type": "code",
   "execution_count": 10,
   "metadata": {},
   "outputs": [],
   "source": [
    "params_model = {\n",
    "    \"group_name\" : \"Ensemble 3\",\n",
    "    \"R\" : 1.0,\n",
    "    \"Rz\" : 0.1,\n",
    "    \"eccentricity\": 0.3,\n",
    "    \"sigma\":0.5,\n",
    "    \"epsilon\":1.0,\n",
    "    # \"logger\" : logger\n",
    "}\n",
    "params_init = {\n",
    "    \"energy\": 1.0,\n",
    "    \"sigma_grid\":0.55,\n",
    "    \"position_random_shift_percentage\": 1.0/100,\n",
    "    \"planar\": False,\n",
    "    \"zero_momentum\": False,\n",
    "}\n",
    "params_simulation = {\n",
    "    \"iteration_time\" : 500,\n",
    "    \"dt\" : 1e-4,\n",
    "    \"record_interval\" : 1e-2,\n",
    "    \"algorithm\" : \"VERLET\"\n",
    "}\n"
   ]
  },
  {
   "cell_type": "code",
   "execution_count": 11,
   "metadata": {},
   "outputs": [
    {
     "data": {
      "text/plain": [
       "12.20282130695872"
      ]
     },
     "execution_count": 11,
     "metadata": {},
     "output_type": "execute_result"
    }
   ],
   "source": [
    "sim1 = SimulatorMagnetic(Bz=1, **params_model)\n",
    "sim1.init_positions_velocities(**params_init)\n",
    "sim1.rotational_push(0.5)\n",
    "sim1.angular_momentum(sim1.r_init, sim1.v_init)[2].sum()"
   ]
  },
  {
   "cell_type": "code",
   "execution_count": 5,
   "metadata": {},
   "outputs": [],
   "source": [
    "for i in range(500):\n",
    "    name = str(np.random.randint(1e10))\n",
    "    \n",
    "    sim1 = SimulatorMagnetic(Bz=0, name=name, **params_model)\n",
    "    sim1.init_positions_velocities(**params_init)\n",
    "    sim1.rotational_push(0.4)\n",
    "    r_init, v_init = sim1.r_init, sim1.v_init\n",
    "#     print(\"N =\", sim1.particle_number())\n",
    "    res1 = pool.apply_async(sim1.simulate_async, kwds=params_simulation)\n",
    "\n",
    "    sim2 = SimulatorMagnetic(Bz=1, name=name, **params_model)\n",
    "    sim2.r_init, sim2.v_init = r_init, v_init\n",
    "    res2 = pool.apply_async(sim2.simulate_async,kwds=params_simulation)\n",
    "    \n",
    "    sim3 = SimulatorMagnetic(Bz=100, name=name, **params_model)\n",
    "    sim3.r_init, sim3.v_init = r_init, v_init\n",
    "    res3 = pool.apply_async(sim3.simulate_async,kwds=params_simulation)"
   ]
  },
  {
   "cell_type": "code",
   "execution_count": 11,
   "metadata": {},
   "outputs": [
    {
     "data": {
      "text/plain": [
       "10.799878354968241"
      ]
     },
     "execution_count": 11,
     "metadata": {},
     "output_type": "execute_result"
    }
   ],
   "source": []
  },
  {
   "cell_type": "code",
   "execution_count": 13,
   "metadata": {},
   "outputs": [
    {
     "data": {
      "text/plain": [
       "1.2298373876248845"
      ]
     },
     "execution_count": 13,
     "metadata": {},
     "output_type": "execute_result"
    }
   ],
   "source": [
    "sim1.norm(sim1.r_init[:2, 0])"
   ]
  },
  {
   "cell_type": "code",
   "execution_count": null,
   "metadata": {},
   "outputs": [],
   "source": []
  }
 ],
 "metadata": {
  "kernelspec": {
   "display_name": "Python 3 (ipykernel)",
   "language": "python",
   "name": "python3"
  },
  "language_info": {
   "codemirror_mode": {
    "name": "ipython",
    "version": 3
   },
   "file_extension": ".py",
   "mimetype": "text/x-python",
   "name": "python",
   "nbconvert_exporter": "python",
   "pygments_lexer": "ipython3",
   "version": "3.8.12"
  },
  "vscode": {
   "interpreter": {
    "hash": "e64f654cba681074fe0905ba55bb25a887cf8938d6dec109db222ad2a10d0b94"
   }
  }
 },
 "nbformat": 4,
 "nbformat_minor": 2
}
