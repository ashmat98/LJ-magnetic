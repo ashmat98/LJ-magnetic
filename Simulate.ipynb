{
 "cells": [
  {
   "cell_type": "code",
   "execution_count": 1,
   "metadata": {},
   "outputs": [],
   "source": [
    "from matplotlib import pyplot as plt\n",
    "import numpy as np\n",
    "import importlib\n",
    "from simulator.ideal import SimulatorIdeal\n",
    "from simulator.lennard import SimulatorLennard\n",
    "from simulator.magnetic import SimulatorMagnetic\n",
    "\n",
    "import multiprocessing\n",
    "from multiprocessing import Pool, cpu_count\n",
    "\n",
    "# import logging.config\n",
    "# import logging\n",
    "from utils.logs import get_logger\n",
    "\n",
    "import sys\n",
    "# logging.config.fileConfig(\"/home/amatevosyan/telegramLogConfig\")\n",
    "# logger = logging.getLogger(\"telegram\")\n",
    "\n",
    "# logger = multiprocessing.log_to_stderr()\n",
    "# logger.setLevel(logging.WARNING)"
   ]
  },
  {
   "cell_type": "code",
   "execution_count": 2,
   "metadata": {},
   "outputs": [],
   "source": [
    "def before_step(obj, r, v, t):\n",
    "    if not hasattr(obj, \"Bz_dummy\"):\n",
    "        obj.Bz_dummy = obj.Bz\n",
    "        obj.abc_dummy = obj.abc.copy()\n",
    "        \n",
    "        obj.Bz = 0\n",
    "        obj.abc[1] = obj.abc[0]\n",
    "        obj.init_potential_params()\n",
    "        \n",
    "    if t > 100:\n",
    "        obj.Bz = obj.Bz_dummy\n",
    "        obj.abc = obj.abc_dummy\n",
    "        obj.init_potential_params()\n",
    "        obj.last_a = None"
   ]
  },
  {
   "cell_type": "code",
   "execution_count": 3,
   "metadata": {},
   "outputs": [
    {
     "data": {
      "text/plain": [
       "<multiprocessing.pool.Pool state=RUN pool_size=12>"
      ]
     },
     "execution_count": 3,
     "metadata": {},
     "output_type": "execute_result"
    },
    {
     "name": "stderr",
     "output_type": "stream",
     "text": [
      " 12%|█▏        | 1165526/10000000 [07:26<1:17:56, 1889.12it/s]IOPub message rate exceeded.\n",
      "The notebook server will temporarily stop sending output\n",
      "to the client in order to avoid crashing it.\n",
      "To change this limit, set the config variable\n",
      "`--NotebookApp.iopub_msg_rate_limit`.\n",
      "\n",
      "Current values:\n",
      "NotebookApp.iopub_msg_rate_limit=1000.0 (msgs/sec)\n",
      "NotebookApp.rate_limit_window=3.0 (secs)\n",
      "\n",
      " 21%|██        | 2088391/10000000 [16:11<1:10:13, 1877.85it/s]IOPub message rate exceeded.\n",
      "The notebook server will temporarily stop sending output\n",
      "to the client in order to avoid crashing it.\n",
      "To change this limit, set the config variable\n",
      "`--NotebookApp.iopub_msg_rate_limit`.\n",
      "\n",
      "Current values:\n",
      "NotebookApp.iopub_msg_rate_limit=1000.0 (msgs/sec)\n",
      "NotebookApp.rate_limit_window=3.0 (secs)\n",
      "\n",
      " 30%|███       | 3006502/10000000 [24:39<1:20:47, 1442.56it/s]IOPub message rate exceeded.\n",
      "The notebook server will temporarily stop sending output\n",
      "to the client in order to avoid crashing it.\n",
      "To change this limit, set the config variable\n",
      "`--NotebookApp.iopub_msg_rate_limit`.\n",
      "\n",
      "Current values:\n",
      "NotebookApp.iopub_msg_rate_limit=1000.0 (msgs/sec)\n",
      "NotebookApp.rate_limit_window=3.0 (secs)\n",
      "\n",
      " 39%|███▉      | 3887579/10000000 [33:35<54:07, 1882.33it/s]s]IOPub message rate exceeded.\n",
      "The notebook server will temporarily stop sending output\n",
      "to the client in order to avoid crashing it.\n",
      "To change this limit, set the config variable\n",
      "`--NotebookApp.iopub_msg_rate_limit`.\n",
      "\n",
      "Current values:\n",
      "NotebookApp.iopub_msg_rate_limit=1000.0 (msgs/sec)\n",
      "NotebookApp.rate_limit_window=3.0 (secs)\n",
      "\n",
      " 49%|████▊     | 4868118/10000000 [41:38<49:13, 1737.31it/s]s]IOPub message rate exceeded.\n",
      "The notebook server will temporarily stop sending output\n",
      "to the client in order to avoid crashing it.\n",
      "To change this limit, set the config variable\n",
      "`--NotebookApp.iopub_msg_rate_limit`.\n",
      "\n",
      "Current values:\n",
      "NotebookApp.iopub_msg_rate_limit=1000.0 (msgs/sec)\n",
      "NotebookApp.rate_limit_window=3.0 (secs)\n",
      "\n",
      " 56%|█████▌    | 5610355/10000000 [51:03<40:51, 1790.67it/s]  IOPub message rate exceeded.\n",
      "The notebook server will temporarily stop sending output\n",
      "to the client in order to avoid crashing it.\n",
      "To change this limit, set the config variable\n",
      "`--NotebookApp.iopub_msg_rate_limit`.\n",
      "\n",
      "Current values:\n",
      "NotebookApp.iopub_msg_rate_limit=1000.0 (msgs/sec)\n",
      "NotebookApp.rate_limit_window=3.0 (secs)\n",
      "\n",
      " 65%|██████▍   | 6486299/10000000 [1:00:26<30:41, 1907.58it/s]IOPub message rate exceeded.\n",
      "The notebook server will temporarily stop sending output\n",
      "to the client in order to avoid crashing it.\n",
      "To change this limit, set the config variable\n",
      "`--NotebookApp.iopub_msg_rate_limit`.\n",
      "\n",
      "Current values:\n",
      "NotebookApp.iopub_msg_rate_limit=1000.0 (msgs/sec)\n",
      "NotebookApp.rate_limit_window=3.0 (secs)\n",
      "\n",
      " 73%|███████▎  | 7346568/10000000 [1:07:53<28:28, 1553.21it/s]IOPub message rate exceeded.\n",
      "The notebook server will temporarily stop sending output\n",
      "to the client in order to avoid crashing it.\n",
      "To change this limit, set the config variable\n",
      "`--NotebookApp.iopub_msg_rate_limit`.\n",
      "\n",
      "Current values:\n",
      "NotebookApp.iopub_msg_rate_limit=1000.0 (msgs/sec)\n",
      "NotebookApp.rate_limit_window=3.0 (secs)\n",
      "\n",
      " 84%|████████▍ | 8432279/10000000 [1:16:30<13:32, 1929.34it/s]IOPub message rate exceeded.\n",
      "The notebook server will temporarily stop sending output\n",
      "to the client in order to avoid crashing it.\n",
      "To change this limit, set the config variable\n",
      "`--NotebookApp.iopub_msg_rate_limit`.\n",
      "\n",
      "Current values:\n",
      "NotebookApp.iopub_msg_rate_limit=1000.0 (msgs/sec)\n",
      "NotebookApp.rate_limit_window=3.0 (secs)\n",
      "\n",
      " 92%|█████████▏| 9214928/10000000 [1:25:21<10:27, 1250.25it/s]IOPub message rate exceeded.\n",
      "The notebook server will temporarily stop sending output\n",
      "to the client in order to avoid crashing it.\n",
      "To change this limit, set the config variable\n",
      "`--NotebookApp.iopub_msg_rate_limit`.\n",
      "\n",
      "Current values:\n",
      "NotebookApp.iopub_msg_rate_limit=1000.0 (msgs/sec)\n",
      "NotebookApp.rate_limit_window=3.0 (secs)\n",
      "\n",
      "100%|██████████| 10000000/10000000 [1:31:02<00:00, 1830.55it/s]\n",
      "100%|██████████| 10000000/10000000 [1:31:11<00:00, 1827.78it/s]\n",
      "100%|██████████| 10000000/10000000 [1:31:45<00:00, 1816.39it/s]\n",
      "100%|██████████| 10000000/10000000 [1:32:04<00:00, 1810.23it/s]\n",
      "100%|██████████| 10000000/10000000 [1:32:09<00:00, 1808.53it/s]\n",
      "100%|██████████| 10000000/10000000 [1:32:15<00:00, 1806.59it/s]\n",
      "100%|██████████| 10000000/10000000 [1:33:27<00:00, 1783.27it/s]\n",
      "100%|██████████| 10000000/10000000 [1:33:34<00:00, 1781.07it/s]\n",
      "100%|██████████| 10000000/10000000 [1:33:40<00:00, 1779.21it/s]\n",
      "100%|██████████| 10000000/10000000 [1:33:45<00:00, 1777.54it/s]\n",
      "100%|█████████▉| 9978917/10000000 [1:34:28<00:11, 1893.69it/s]"
     ]
    }
   ],
   "source": [
    "pool = Pool(cpu_count(), maxtasksperchild=1); pool"
   ]
  },
  {
   "cell_type": "code",
   "execution_count": 4,
   "metadata": {},
   "outputs": [],
   "source": [
    "params_model = {\n",
    "    \"group_name\" : \"BEnsemble 1\",\n",
    "    \"R\" : 1.0,\n",
    "    \"Rz\" : 0.1,\n",
    "    \"eccentricity\": 0.15,\n",
    "    \"sigma\":0.5,\n",
    "    \"epsilon\":1.0,\n",
    "    \"get_logger\" : get_logger\n",
    "}\n",
    "params_init = {\n",
    "    \"energy\": 1.0,\n",
    "    \"sigma_grid\":0.55,\n",
    "    \"position_random_shift_percentage\": 1.0/100,\n",
    "    \"planar\": False,\n",
    "    \"zero_momentum\": False,\n",
    "}\n",
    "params_simulation = {\n",
    "    \"iteration_time\" : 1000,\n",
    "    \"dt\" : 1e-4,\n",
    "    \"record_interval\" : 1e-1,\n",
    "    \"algorithm\" : \"VERLET\",\n",
    "    \"before_step\" : before_step\n",
    "}\n"
   ]
  },
  {
   "cell_type": "code",
   "execution_count": 5,
   "metadata": {},
   "outputs": [
    {
     "data": {
      "text/plain": [
       "15.478481499435608"
      ]
     },
     "execution_count": 5,
     "metadata": {},
     "output_type": "execute_result"
    }
   ],
   "source": [
    "sim1 = SimulatorMagnetic(Bz=1e-6, **params_model)\n",
    "sim1.init_positions_velocities(**params_init)\n",
    "sim1.rotational_push(0.8)\n",
    "sim1.angular_momentum(sim1.r_init, sim1.v_init)[2].sum()"
   ]
  },
  {
   "cell_type": "raw",
   "metadata": {},
   "source": [
    "sim1.simulate(**params_simulation);"
   ]
  },
  {
   "cell_type": "raw",
   "metadata": {},
   "source": [
    "sim1.simulate_async(**params_simulation)"
   ]
  },
  {
   "cell_type": "code",
   "execution_count": 6,
   "metadata": {},
   "outputs": [
    {
     "data": {
      "text/plain": [
       "10.932360271703011"
      ]
     },
     "execution_count": 6,
     "metadata": {},
     "output_type": "execute_result"
    }
   ],
   "source": [
    "sim1.total_energy(sim1.r_init, sim1.v_init)"
   ]
  },
  {
   "cell_type": "code",
   "execution_count": 7,
   "metadata": {},
   "outputs": [
    {
     "data": {
      "text/plain": [
       "4.118045142242321"
      ]
     },
     "execution_count": 7,
     "metadata": {},
     "output_type": "execute_result"
    }
   ],
   "source": [
    "sim1.volume_fraction()"
   ]
  },
  {
   "cell_type": "code",
   "execution_count": 8,
   "metadata": {},
   "outputs": [
    {
     "name": "stderr",
     "output_type": "stream",
     "text": [
      "  2%|▏         | 189376/10000000 [01:00<54:26, 3003.72it/s]s]IOPub message rate exceeded.\n",
      "The notebook server will temporarily stop sending output\n",
      "to the client in order to avoid crashing it.\n",
      "To change this limit, set the config variable\n",
      "`--NotebookApp.iopub_msg_rate_limit`.\n",
      "\n",
      "Current values:\n",
      "NotebookApp.iopub_msg_rate_limit=1000.0 (msgs/sec)\n",
      "NotebookApp.rate_limit_window=3.0 (secs)\n",
      "\n",
      " 16%|█▋        | 1629044/10000000 [12:01<1:14:22, 1875.96it/s]IOPub message rate exceeded.\n",
      "The notebook server will temporarily stop sending output\n",
      "to the client in order to avoid crashing it.\n",
      "To change this limit, set the config variable\n",
      "`--NotebookApp.iopub_msg_rate_limit`.\n",
      "\n",
      "Current values:\n",
      "NotebookApp.iopub_msg_rate_limit=1000.0 (msgs/sec)\n",
      "NotebookApp.rate_limit_window=3.0 (secs)\n",
      "\n",
      " 33%|███▎      | 3300001/10000000 [27:25<1:03:18, 1764.08it/s]IOPub message rate exceeded.\n",
      "The notebook server will temporarily stop sending output\n",
      "to the client in order to avoid crashing it.\n",
      "To change this limit, set the config variable\n",
      "`--NotebookApp.iopub_msg_rate_limit`.\n",
      "\n",
      "Current values:\n",
      "NotebookApp.iopub_msg_rate_limit=1000.0 (msgs/sec)\n",
      "NotebookApp.rate_limit_window=3.0 (secs)\n",
      "\n",
      " 34%|███▍      | 3391091/10000000 [28:40<1:04:01, 1720.31it/s]IOPub message rate exceeded.\n",
      "The notebook server will temporarily stop sending output\n",
      "to the client in order to avoid crashing it.\n",
      "To change this limit, set the config variable\n",
      "`--NotebookApp.iopub_msg_rate_limit`.\n",
      "\n",
      "Current values:\n",
      "NotebookApp.iopub_msg_rate_limit=1000.0 (msgs/sec)\n",
      "NotebookApp.rate_limit_window=3.0 (secs)\n",
      "\n",
      " 47%|████▋     | 4674053/10000000 [40:32<47:42, 1860.88it/s]s]IOPub message rate exceeded.\n",
      "The notebook server will temporarily stop sending output\n",
      "to the client in order to avoid crashing it.\n",
      "To change this limit, set the config variable\n",
      "`--NotebookApp.iopub_msg_rate_limit`.\n",
      "\n",
      "Current values:\n",
      "NotebookApp.iopub_msg_rate_limit=1000.0 (msgs/sec)\n",
      "NotebookApp.rate_limit_window=3.0 (secs)\n",
      "\n",
      " 55%|█████▍    | 5499367/10000000 [48:16<40:06, 1869.90it/s]s]IOPub message rate exceeded.\n",
      "The notebook server will temporarily stop sending output\n",
      "to the client in order to avoid crashing it.\n",
      "To change this limit, set the config variable\n",
      "`--NotebookApp.iopub_msg_rate_limit`.\n",
      "\n",
      "Current values:\n",
      "NotebookApp.iopub_msg_rate_limit=1000.0 (msgs/sec)\n",
      "NotebookApp.rate_limit_window=3.0 (secs)\n",
      "\n",
      " 58%|█████▊    | 5841185/10000000 [53:27<1:06:12, 1046.80it/s]IOPub message rate exceeded.\n",
      "The notebook server will temporarily stop sending output\n",
      "to the client in order to avoid crashing it.\n",
      "To change this limit, set the config variable\n",
      "`--NotebookApp.iopub_msg_rate_limit`.\n",
      "\n",
      "Current values:\n",
      "NotebookApp.iopub_msg_rate_limit=1000.0 (msgs/sec)\n",
      "NotebookApp.rate_limit_window=3.0 (secs)\n",
      "\n",
      " 71%|███████   | 7100663/10000000 [1:04:10<25:56, 1863.32it/s]IOPub message rate exceeded.\n",
      "The notebook server will temporarily stop sending output\n",
      "to the client in order to avoid crashing it.\n",
      "To change this limit, set the config variable\n",
      "`--NotebookApp.iopub_msg_rate_limit`.\n",
      "\n",
      "Current values:\n",
      "NotebookApp.iopub_msg_rate_limit=1000.0 (msgs/sec)\n",
      "NotebookApp.rate_limit_window=3.0 (secs)\n",
      "\n",
      " 82%|████████▏ | 8175705/10000000 [1:13:44<15:48, 1924.11it/s]IOPub message rate exceeded.\n",
      "The notebook server will temporarily stop sending output\n",
      "to the client in order to avoid crashing it.\n",
      "To change this limit, set the config variable\n",
      "`--NotebookApp.iopub_msg_rate_limit`.\n",
      "\n",
      "Current values:\n",
      "NotebookApp.iopub_msg_rate_limit=1000.0 (msgs/sec)\n",
      "NotebookApp.rate_limit_window=3.0 (secs)\n",
      "\n",
      " 73%|███████▎  | 7315770/10000000 [1:12:24<31:59, 1398.32it/s]"
     ]
    }
   ],
   "source": [
    "for i in range(10):\n",
    "    name = f\"subgroup-{i}\"\n",
    "    sim = SimulatorMagnetic(Bz=0, name=name, **params_model)\n",
    "    sim.init_positions_velocities(**params_init)\n",
    "    sim.rotational_push(0.8)\n",
    "    r_init, v_init = sim.r_init, sim.v_init\n",
    "    \n",
    "    pool.apply_async(sim.simulate_async, kwds=params_simulation)\n",
    "    \n",
    "    for Bz in np.linspace(0.5*1e-6, 1.5*1e-6, 100):\n",
    "        sim = SimulatorMagnetic(Bz=Bz, name=name, **params_model)\n",
    "        sim.r_init, sim.v_init = r_init, v_init\n",
    "        pool.apply_async(sim.simulate_async, kwds=params_simulation)"
   ]
  },
  {
   "cell_type": "code",
   "execution_count": null,
   "metadata": {},
   "outputs": [],
   "source": []
  }
 ],
 "metadata": {
  "kernelspec": {
   "display_name": "Python 3 (ipykernel)",
   "language": "python",
   "name": "python3"
  },
  "language_info": {
   "codemirror_mode": {
    "name": "ipython",
    "version": 3
   },
   "file_extension": ".py",
   "mimetype": "text/x-python",
   "name": "python",
   "nbconvert_exporter": "python",
   "pygments_lexer": "ipython3",
   "version": "3.8.12"
  },
  "vscode": {
   "interpreter": {
    "hash": "e64f654cba681074fe0905ba55bb25a887cf8938d6dec109db222ad2a10d0b94"
   }
  }
 },
 "nbformat": 4,
 "nbformat_minor": 2
}
