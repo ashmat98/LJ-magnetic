{
 "cells": [
  {
   "cell_type": "code",
   "execution_count": 1,
   "metadata": {},
   "outputs": [],
   "source": [
    "from matplotlib import pyplot as plt\n",
    "import numpy as np\n",
    "import importlib\n",
    "from simulator.magnetic import SimulatorMagnetic    \n",
    "import logging"
   ]
  },
  {
   "cell_type": "code",
   "execution_count": 2,
   "metadata": {},
   "outputs": [
    {
     "name": "stdout",
     "output_type": "stream",
     "text": [
      "N = 21\n"
     ]
    }
   ],
   "source": [
    "params = {\n",
    "    \"name\" : \"sim1\",\n",
    "    \"logger\" : logging.getLogger(),\n",
    "    \"R\" : 1.0,\n",
    "    \"Rz\" : 0.01,\n",
    "    \"Bz\" : 1.0,\n",
    "    \"eccentricity\": 0.1,\n",
    "    \"energy\": 1.0,\n",
    "    \"mass\": 1.0,\n",
    "    \"sigma\":0.4,\n",
    "    \"sigma_grid\":0.5,\n",
    "    \"position_random_shift_percentage\": 0.0/100,\n",
    "    \"epsilon\":1.0,\n",
    "    \"planar\": False,\n",
    "    \"zero_momentum\": True\n",
    "}\n",
    "\n",
    "e = params[\"eccentricity\"]\n",
    "params.update({\n",
    "    \"abc\": np.array(\n",
    "        [params[\"R\"] / (1-e**2)**(1/4),\n",
    "        params[\"R\"] * (1-e**2)**(1/4),\n",
    "        params[\"Rz\"]]\n",
    "    )\n",
    "})\n",
    "sim = SimulatorMagnetic(**params)\n",
    "r_init, v_init = sim.init_positions_velocities(**params)\n",
    "print(\"N =\", sim.particle_number())"
   ]
  },
  {
   "cell_type": "code",
   "execution_count": 3,
   "metadata": {},
   "outputs": [],
   "source": [
    "sim.simulate_async(0.01, dt=1e-5, record_interval=1e-3, algorithm=\"VERLET\")"
   ]
  },
  {
   "cell_type": "code",
   "execution_count": 4,
   "metadata": {},
   "outputs": [
    {
     "name": "stderr",
     "output_type": "stream",
     "text": [
      "100%|██████████| 1000/1000 [00:00<00:00, 2868.98it/s]\n",
      "Simulation sim1 finished\n"
     ]
    }
   ],
   "source": [
    "sim.join()"
   ]
  },
  {
   "cell_type": "code",
   "execution_count": 5,
   "metadata": {},
   "outputs": [
    {
     "data": {
      "text/plain": [
       "11"
      ]
     },
     "execution_count": 5,
     "metadata": {},
     "output_type": "execute_result"
    }
   ],
   "source": [
    "len(sim.history[\"rs\"])"
   ]
  },
  {
   "cell_type": "code",
   "execution_count": null,
   "metadata": {},
   "outputs": [],
   "source": []
  }
 ],
 "metadata": {
  "kernelspec": {
   "display_name": "Python 3.8.12 ('base')",
   "language": "python",
   "name": "python3"
  },
  "language_info": {
   "codemirror_mode": {
    "name": "ipython",
    "version": 3
   },
   "file_extension": ".py",
   "mimetype": "text/x-python",
   "name": "python",
   "nbconvert_exporter": "python",
   "pygments_lexer": "ipython3",
   "version": "3.8.12"
  },
  "orig_nbformat": 4,
  "vscode": {
   "interpreter": {
    "hash": "e64f654cba681074fe0905ba55bb25a887cf8938d6dec109db222ad2a10d0b94"
   }
  }
 },
 "nbformat": 4,
 "nbformat_minor": 2
}
