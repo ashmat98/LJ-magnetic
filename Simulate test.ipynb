{
 "cells": [
  {
   "cell_type": "code",
   "execution_count": 1,
   "metadata": {},
   "outputs": [],
   "source": [
    "from matplotlib import pyplot as plt\n",
    "import numpy as np\n",
    "import importlib"
   ]
  },
  {
   "cell_type": "code",
   "execution_count": 2,
   "metadata": {},
   "outputs": [],
   "source": [
    "from simulator.ideal import SimulatorIdeal\n",
    "from simulator.lennard import SimulatorLennard\n",
    "from simulator.magnetic import SimulatorMagnetic"
   ]
  },
  {
   "cell_type": "code",
   "execution_count": 3,
   "metadata": {},
   "outputs": [],
   "source": [
    "params_model = {\n",
    "    \"R\" : 1.0,\n",
    "    \"Rz\" : 0.5,\n",
    "    \"Bz\" : 1.0,\n",
    "    \"eccentricity\": 0.01,\n",
    "    \"sigma\":0.1,\n",
    "    \"epsilon\":1.0\n",
    "}\n",
    "params_init = {\n",
    "    \"energy\": 1.0,\n",
    "    \"sigma_grid\":0.2,\n",
    "    \"position_random_shift_percentage\": 0.0/100,\n",
    "    \"planar\": False,\n",
    "    \"zero_momentum\": True\n",
    "}\n",
    "params_simulation = {}"
   ]
  },
  {
   "cell_type": "markdown",
   "metadata": {},
   "source": [
    "## test initialisation"
   ]
  },
  {
   "cell_type": "code",
   "execution_count": 4,
   "metadata": {
    "scrolled": false
   },
   "outputs": [],
   "source": [
    "sim = SimulatorMagnetic(**params_model)\n",
    "r_init = sim.init_positions_closepack(**params_init)"
   ]
  },
  {
   "cell_type": "code",
   "execution_count": 5,
   "metadata": {},
   "outputs": [
    {
     "data": {
      "text/plain": [
       "(933.572086695684, 516.129453913998)"
      ]
     },
     "execution_count": 5,
     "metadata": {},
     "output_type": "execute_result"
    }
   ],
   "source": [
    "sim.L_given_E_constraint(1)"
   ]
  },
  {
   "cell_type": "code",
   "execution_count": 6,
   "metadata": {},
   "outputs": [],
   "source": [
    "sim.init_velocities(1, 300);"
   ]
  },
  {
   "cell_type": "code",
   "execution_count": 7,
   "metadata": {},
   "outputs": [
    {
     "data": {
      "text/plain": [
       "299.9999999999999"
      ]
     },
     "execution_count": 7,
     "metadata": {},
     "output_type": "execute_result"
    }
   ],
   "source": [
    "sim.angular_momentum(sim.r_init, sim.v_init)[-1].sum()"
   ]
  },
  {
   "cell_type": "code",
   "execution_count": 8,
   "metadata": {},
   "outputs": [
    {
     "data": {
      "text/plain": [
       "1053.0"
      ]
     },
     "execution_count": 8,
     "metadata": {},
     "output_type": "execute_result"
    }
   ],
   "source": [
    "sim.total_energy(sim.r_init, sim.v_init).sum()"
   ]
  },
  {
   "cell_type": "code",
   "execution_count": 9,
   "metadata": {},
   "outputs": [
    {
     "data": {
      "text/plain": [
       "1053"
      ]
     },
     "execution_count": 9,
     "metadata": {},
     "output_type": "execute_result"
    }
   ],
   "source": [
    "sim.particle_number()"
   ]
  },
  {
   "cell_type": "raw",
   "metadata": {},
   "source": [
    "fig = plt.figure()\n",
    "ax = fig.add_subplot(projection='3d')\n",
    "ax.scatter3D(r_init[0],r_init[1],r_init[2])"
   ]
  },
  {
   "cell_type": "markdown",
   "metadata": {},
   "source": [
    "## Simulate"
   ]
  },
  {
   "cell_type": "code",
   "execution_count": null,
   "metadata": {},
   "outputs": [],
   "source": [
    "# history = sim.to_array(sim.simulate(1, dt=1e-5, algorithm=\"EULER\"))\n",
    "# history = sim.to_array(sim.simulate(1, dt=1e-5, algorithm=\"RK\"))\n",
    "history = sim.to_array(sim.simulate(0.01, dt=1e-5, record_interval=1e-3, algorithm=\"VERLET\"))"
   ]
  },
  {
   "cell_type": "code",
   "execution_count": null,
   "metadata": {},
   "outputs": [],
   "source": [
    "sim_id = sim.push_db(); sim_id"
   ]
  },
  {
   "cell_type": "code",
   "execution_count": null,
   "metadata": {},
   "outputs": [],
   "source": [
    "plt.plot(history[\"L\"][:,2,:]);"
   ]
  },
  {
   "cell_type": "code",
   "execution_count": null,
   "metadata": {},
   "outputs": [],
   "source": [
    "plt.figure()\n",
    "plt.plot(np.sum(history[\"KE\"] + history[\"PE\"] + 0.5*history[\"IE\"], axis=1), label=\"total energy\")\n",
    "plt.plot(np.sum(history[\"KE\"], axis=1), label=\"kinetic energy\")\n",
    "plt.plot(np.sum(history[\"PE\"], axis=1), label=\"potential energy\")\n",
    "plt.plot(0.5 * np.sum(history[\"IE\"], axis=1), label=\"interaction energy\")\n",
    "plt.scatter(0,0)\n",
    "plt.legend()\n",
    "plt.title(\"Energy\")\n",
    "\n",
    "plt.figure()\n",
    "plt.plot(np.sum(history[\"L\"], axis=2))\n",
    "plt.title(\"Angular Momentum\")\n",
    "\n",
    "plt.figure()\n",
    "plt.plot(np.sum(history[\"L\"], axis=2))\n",
    "\n",
    "plt.figure()\n",
    "plt.plot(np.sum(history[\"L\"][:,2], axis=1))\n",
    "plt.plot(np.sum(history[\"L\"][:,2] + history[\"BInertia\"], axis=1))\n",
    "plt.scatter(0,0)\n",
    "plt.title(\"Z Angular Momentum\")\n"
   ]
  },
  {
   "cell_type": "code",
   "execution_count": null,
   "metadata": {},
   "outputs": [],
   "source": []
  },
  {
   "cell_type": "code",
   "execution_count": null,
   "metadata": {},
   "outputs": [],
   "source": [
    "fig = plt.figure()\n",
    "# ax = fig.gca(projection='3d')\n",
    "ax = fig.add_subplot(projection='3d')\n",
    "ax.set_aspect(\"auto\")\n",
    "pi = 20\n",
    "rs = history[\"rs\"]\n",
    "ax.plot(rs[:,0,pi], rs[:,1,pi], rs[:,2,pi])\n",
    "ax.set_xlabel('X')\n",
    "ax.set_ylabel('Y')\n",
    "ax.set_zlabel('Z')"
   ]
  },
  {
   "cell_type": "code",
   "execution_count": null,
   "metadata": {},
   "outputs": [],
   "source": [
    "import datetime\n",
    "import time"
   ]
  },
  {
   "cell_type": "code",
   "execution_count": null,
   "metadata": {},
   "outputs": [],
   "source": [
    "sim = SimulatorMagnetic(**params_model)\n",
    "init = sim.init_positions_velocities(**params_init)\n",
    "history = sim.to_array(sim.simulate(0.03, dt=1e-5, record_interval=1e-3, algorithm=\"VERLET\"))\n",
    "\n",
    "sim1 = SimulatorMagnetic(**params_model)\n",
    "sim1.r_init, sim1.v_init = init\n",
    "history1 = sim.to_array(sim1.simulate(0.01, dt=1e-5, record_interval=1e-3, algorithm=\"VERLET\"))\n",
    "# history11 = sim.to_array(sim1.simulate(0.02, dt=1e-5, record_interval=1e-3, algorithm=\"VERLET\"))\n",
    "id = sim1.push_db()\n",
    "\n",
    "sim2 = SimulatorMagnetic()\n",
    "sim2.load(id=id)\n",
    "history2 = sim2.to_array(sim2.simulate(0.02, dt=1e-5, record_interval=1e-3, algorithm=\"VERLET\"))\n",
    "\n",
    "np.allclose(history2[\"rs\"], history[\"rs\"])"
   ]
  },
  {
   "cell_type": "code",
   "execution_count": null,
   "metadata": {},
   "outputs": [],
   "source": [
    "sim = SimulatorMagnetic(**params_model)\n",
    "init = sim.init_positions_velocities(**params_init)"
   ]
  },
  {
   "cell_type": "code",
   "execution_count": null,
   "metadata": {},
   "outputs": [],
   "source": [
    "print(sim.angular_momentum(sim.r_init, sim.v_init)[2].sum())\n",
    "sim.rotational_push(0.5)\n",
    "print(sim.angular_momentum(sim.r_init, sim.v_init)[2].sum())\n"
   ]
  },
  {
   "cell_type": "code",
   "execution_count": null,
   "metadata": {},
   "outputs": [],
   "source": [
    "from multiprocessing import Pool, cpu_count"
   ]
  },
  {
   "cell_type": "code",
   "execution_count": null,
   "metadata": {},
   "outputs": [],
   "source": [
    "pool = Pool(cpu_count())"
   ]
  },
  {
   "cell_type": "code",
   "execution_count": null,
   "metadata": {},
   "outputs": [],
   "source": [
    "params_simulation = {\n",
    "    \"iteration_time\" : 1,\n",
    "    \"dt\" : 0.0005, \n",
    "    \"record_interval\" : 0.01, \n",
    "    \"algorithm\" : \"EULER\"\n",
    "}"
   ]
  },
  {
   "cell_type": "code",
   "execution_count": null,
   "metadata": {},
   "outputs": [],
   "source": [
    "results = []\n",
    "for i in range(3):\n",
    "    sim = SimulatorMagnetic(name = \"A\", **params_model)\n",
    "    init = sim.init_positions_velocities(**params_init)\n",
    "    \n",
    "    sim1 = SimulatorMagnetic(name = \"A\", **params_model)\n",
    "    sim1.r_init, sim1.v_init = init\n",
    "\n",
    "    results.append(pool.apply_async(sim.simulate_async, kwds=params_simulation))\n",
    "    results.append(pool.apply_async(sim1.simulate_async, kwds=params_simulation))\n"
   ]
  },
  {
   "cell_type": "code",
   "execution_count": null,
   "metadata": {},
   "outputs": [],
   "source": [
    "np.array(sorted([x.get() for x in results])).shape"
   ]
  },
  {
   "cell_type": "code",
   "execution_count": null,
   "metadata": {},
   "outputs": [],
   "source": []
  }
 ],
 "metadata": {
  "kernelspec": {
   "display_name": "Python 3 (ipykernel)",
   "language": "python",
   "name": "python3"
  },
  "language_info": {
   "codemirror_mode": {
    "name": "ipython",
    "version": 3
   },
   "file_extension": ".py",
   "mimetype": "text/x-python",
   "name": "python",
   "nbconvert_exporter": "python",
   "pygments_lexer": "ipython3",
   "version": "3.8.12"
  },
  "vscode": {
   "interpreter": {
    "hash": "e64f654cba681074fe0905ba55bb25a887cf8938d6dec109db222ad2a10d0b94"
   }
  }
 },
 "nbformat": 4,
 "nbformat_minor": 2
}
